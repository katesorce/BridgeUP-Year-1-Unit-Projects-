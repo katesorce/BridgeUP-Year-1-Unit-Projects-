{
 "cells": [
  {
   "cell_type": "markdown",
   "metadata": {
    "colab_type": "text",
    "id": "-aDkg8IYpfxS"
   },
   "source": [
    "# Making a CMD for your Star Cluster\n",
    "\n",
    "This notebook introduces a few commands that you'll need to make the Color Magnitude Diagram for your star cluster. You can also use the cells below to write code for your unit project."
   ]
  },
  {
   "cell_type": "markdown",
   "metadata": {
    "colab_type": "text",
    "id": "cdlCFoIYpfxT"
   },
   "source": [
    "## .loc[ ] indexing"
   ]
  },
  {
   "cell_type": "code",
   "execution_count": null,
   "metadata": {
    "colab": {},
    "colab_type": "code",
    "id": "CcUJ8BQFpfxU"
   },
   "outputs": [],
   "source": [
    "import pandas as pd"
   ]
  },
  {
   "cell_type": "code",
   "execution_count": null,
   "metadata": {
    "colab": {},
    "colab_type": "code",
    "id": "1Wo4VNL8pfxX",
    "outputId": "32132b29-95f1-4823-ce50-7b608a6c45ae"
   },
   "outputs": [
    {
     "data": {
      "text/html": [
       "<div>\n",
       "<style scoped>\n",
       "    .dataframe tbody tr th:only-of-type {\n",
       "        vertical-align: middle;\n",
       "    }\n",
       "\n",
       "    .dataframe tbody tr th {\n",
       "        vertical-align: top;\n",
       "    }\n",
       "\n",
       "    .dataframe thead th {\n",
       "        text-align: right;\n",
       "    }\n",
       "</style>\n",
       "<table border=\"1\" class=\"dataframe\">\n",
       "  <thead>\n",
       "    <tr style=\"text-align: right;\">\n",
       "      <th></th>\n",
       "      <th>Smartphone</th>\n",
       "      <th>Price</th>\n",
       "    </tr>\n",
       "  </thead>\n",
       "  <tbody>\n",
       "    <tr>\n",
       "      <th>0</th>\n",
       "      <td>iPhone 11</td>\n",
       "      <td>700</td>\n",
       "    </tr>\n",
       "    <tr>\n",
       "      <th>1</th>\n",
       "      <td>Samsung Galaxy S20</td>\n",
       "      <td>1000</td>\n",
       "    </tr>\n",
       "    <tr>\n",
       "      <th>2</th>\n",
       "      <td>Google Pixel 4</td>\n",
       "      <td>800</td>\n",
       "    </tr>\n",
       "    <tr>\n",
       "      <th>3</th>\n",
       "      <td>LG V60</td>\n",
       "      <td>700</td>\n",
       "    </tr>\n",
       "    <tr>\n",
       "      <th>4</th>\n",
       "      <td>Nokia 9</td>\n",
       "      <td>450</td>\n",
       "    </tr>\n",
       "    <tr>\n",
       "      <th>5</th>\n",
       "      <td>Sony Xperia 1</td>\n",
       "      <td>1000</td>\n",
       "    </tr>\n",
       "    <tr>\n",
       "      <th>6</th>\n",
       "      <td>iPhone SE</td>\n",
       "      <td>399</td>\n",
       "    </tr>\n",
       "  </tbody>\n",
       "</table>\n",
       "</div>"
      ],
      "text/plain": [
       "           Smartphone  Price\n",
       "0           iPhone 11    700\n",
       "1  Samsung Galaxy S20   1000\n",
       "2      Google Pixel 4    800\n",
       "3              LG V60    700\n",
       "4             Nokia 9    450\n",
       "5       Sony Xperia 1   1000\n",
       "6           iPhone SE    399"
      ]
     },
     "execution_count": 3,
     "metadata": {
      "tags": []
     },
     "output_type": "execute_result"
    }
   ],
   "source": [
    "# Here we create a sample dataframe\n",
    "sample_df = pd.DataFrame({\"Smartphone\": [\"iPhone 11\", \"Samsung Galaxy S20\", \"Google Pixel 4\", \"LG V60\", \"Nokia 9\", \"Sony Xperia 1\", \"iPhone SE\"], \"Price\": [700,1000,800,700,450,1000,399]})\n",
    "sample_df"
   ]
  },
  {
   "cell_type": "markdown",
   "metadata": {
    "colab_type": "text",
    "id": "MPN4-t4upfxa"
   },
   "source": [
    "You can use the .loc index method to select all the items in one column which have a particular value in the second column. For example, we may want to select all items from the \"Smartphone\" column that have a value of 700 in the \"Price\" column.\n",
    "\n",
    "\n",
    "Follow along with the **live coding activity** to see how this works."
   ]
  },
  {
   "cell_type": "code",
   "execution_count": null,
   "metadata": {
    "colab": {},
    "colab_type": "code",
    "id": "fu9h0yPKpfxb"
   },
   "outputs": [],
   "source": [
    "# This code selects all values from the first column, \"Smartphone\" where the value on that same row in the second column, \"Price\" is equal to 700\n"
   ]
  },
  {
   "cell_type": "markdown",
   "metadata": {
    "colab_type": "text",
    "id": "CIYEkA3Wpfxd"
   },
   "source": [
    "Now you try! Let's say you want to view some more expensive phones. Select all the values from the \"Smartphone\" column where the value on that same row in the \"Price\" column is equal to 1000."
   ]
  },
  {
   "cell_type": "code",
   "execution_count": null,
   "metadata": {
    "colab": {},
    "colab_type": "code",
    "id": "O0PvGdTNpfxd"
   },
   "outputs": [],
   "source": []
  },
  {
   "cell_type": "markdown",
   "metadata": {
    "colab_type": "text",
    "id": "jzvDK1QEpfxg"
   },
   "source": [
    "Let's say you definitely want an iPhone of some sort, but you want to see just iPhone prices. Now select all the values from the \"Price\" column where the value on that same row in the \"Smartphone\" column contains the word \"iPhone\"."
   ]
  },
  {
   "cell_type": "code",
   "execution_count": null,
   "metadata": {
    "colab": {},
    "colab_type": "code",
    "id": "bqiRqwcXpfxg"
   },
   "outputs": [],
   "source": []
  },
  {
   "cell_type": "markdown",
   "metadata": {
    "colab_type": "text",
    "id": "uMfMtB_zpr3h"
   },
   "source": [
    "Let's say you're on a budget and don't want to spend more than $700 on a phone. Select all the values from the \"Smartphone\" column where the value on that same row in the \"Price\" column is less than or equal to 700."
   ]
  },
  {
   "cell_type": "code",
   "execution_count": null,
   "metadata": {
    "colab": {},
    "colab_type": "code",
    "id": "7TGx3Hxopq8Z"
   },
   "outputs": [],
   "source": []
  },
  {
   "cell_type": "markdown",
   "metadata": {
    "colab_type": "text",
    "id": "utqMyj5_pfxj"
   },
   "source": [
    "#### Note: You can store these selected values in a variable, just like you've done with entire columns!"
   ]
  },
  {
   "cell_type": "markdown",
   "metadata": {
    "colab_type": "text",
    "id": "GP9SqxKvpfxj"
   },
   "source": [
    "## Finding absolute magnitude"
   ]
  },
  {
   "cell_type": "markdown",
   "metadata": {
    "colab_type": "text",
    "id": "JjPICJkepfxj"
   },
   "source": [
    "You will need to convert \"G\" to absolute magnitude for your CMD.\n",
    "\n",
    "Look in the dataset for distance. Using G and distance, you can calculate absolute magnitude using the following equation:\n",
    "\n",
    "absolute magnitude = G - 5 * log(distance) + 5"
   ]
  },
  {
   "cell_type": "code",
   "execution_count": null,
   "metadata": {
    "colab": {},
    "colab_type": "code",
    "id": "7xrdzzqdpfxk"
   },
   "outputs": [],
   "source": [
    "# You will need to import numpy"
   ]
  },
  {
   "cell_type": "code",
   "execution_count": null,
   "metadata": {
    "colab": {},
    "colab_type": "code",
    "id": "_11KBn7Epfxn"
   },
   "outputs": [],
   "source": [
    "# You can use this function in your code to find the log of distance:\n",
    "\n",
    "# np.log10()"
   ]
  },
  {
   "cell_type": "markdown",
   "metadata": {
    "colab_type": "text",
    "id": "66bzd67ipfxp"
   },
   "source": [
    "### Your first task is to create a Color Magnitude Diagram for your star cluster\n",
    "You can use as many of the cells below as you need. You can add new cells with the \"+\" button."
   ]
  },
  {
   "cell_type": "code",
   "execution_count": null,
   "metadata": {
    "colab": {},
    "colab_type": "code",
    "id": "Q5rXuczQpfxq"
   },
   "outputs": [],
   "source": []
  },
  {
   "cell_type": "code",
   "execution_count": null,
   "metadata": {
    "colab": {},
    "colab_type": "code",
    "id": "NASmTxRTpfxu"
   },
   "outputs": [],
   "source": []
  },
  {
   "cell_type": "code",
   "execution_count": null,
   "metadata": {
    "colab": {},
    "colab_type": "code",
    "id": "WkL3pYhOpfxw"
   },
   "outputs": [],
   "source": []
  },
  {
   "cell_type": "code",
   "execution_count": null,
   "metadata": {
    "colab": {},
    "colab_type": "code",
    "id": "EWaGv109pfxy"
   },
   "outputs": [],
   "source": []
  },
  {
   "cell_type": "code",
   "execution_count": null,
   "metadata": {
    "colab": {},
    "colab_type": "code",
    "id": "BhmpitgKpfx0"
   },
   "outputs": [],
   "source": []
  },
  {
   "cell_type": "code",
   "execution_count": null,
   "metadata": {
    "colab": {},
    "colab_type": "code",
    "id": "F5I3F1Rnpfx2"
   },
   "outputs": [],
   "source": []
  },
  {
   "cell_type": "markdown",
   "metadata": {
    "colab_type": "text",
    "id": "BgLYth7Xpfx4"
   },
   "source": [
    "### Coding Challenge 1: Add the sun to your color magnitude diagram"
   ]
  },
  {
   "cell_type": "code",
   "execution_count": null,
   "metadata": {
    "colab": {},
    "colab_type": "code",
    "id": "LlroU_R9pfx4"
   },
   "outputs": [],
   "source": []
  },
  {
   "cell_type": "markdown",
   "metadata": {
    "colab_type": "text",
    "id": "_tG61iyepfx6"
   },
   "source": [
    "### Coding Challenge 2: Add a colormap to your diagram"
   ]
  },
  {
   "cell_type": "code",
   "execution_count": null,
   "metadata": {
    "colab": {},
    "colab_type": "code",
    "id": "M-_pH6SLpfx7"
   },
   "outputs": [],
   "source": []
  },
  {
   "cell_type": "markdown",
   "metadata": {
    "colab_type": "text",
    "id": "IuWfhZKKpfx9"
   },
   "source": [
    "### Coding Challenge 3: Create histograms for the absolute magnitude and color of your star cluster"
   ]
  },
  {
   "cell_type": "code",
   "execution_count": null,
   "metadata": {
    "colab": {},
    "colab_type": "code",
    "id": "1uOX064Vpfx9"
   },
   "outputs": [],
   "source": []
  },
  {
   "cell_type": "markdown",
   "metadata": {},
   "source": [
    "## 🟢Mini Project (Bonus): The Cultural-Societal Impact of the Lack of Access to Home Broadband\n",
    "\n",
    "Electromagnetic waves that have wavelengths that are larger than 1mm in length are typically called radio waves. These wavelengths are used for communication between mobile phones, radio stations, Bluetooth devices, and of course radio stations.\n",
    "\n",
    "Radio astronomers developed an understanding of radio waves, which provided huge advantage for the development of the high-speed WI-FI standard. In the early 1990’s, WI-FI speed was limited by errors created from the signal bouncing and echoing off walls and objects of a room. This problem was made worse when a lot of information was sent across a single pure tone (single frequency) sine-like radio waves, limiting the possible data WI-FI data rate. However, it was found that by spreading the load of information across the radio band, the echo was reduced. It was not until the mid 2000s that this standard had become main-stream in WI-FI technology.\n",
    "\n",
    "\n",
    "In modern times, Wi-Fi is crucial to everyday activities whether it be work, school, or retail. But, who has access to Wi-Fi and who doesn't? Create a dataframe using the following access-based-on-income vs. time data, and create a scatter plot that visualizes how they compare.\n",
    "\n",
    "Source: https://www.pewresearch.org/internet/fact-sheet/internet-broadband/?menuItem=2ab2b0be-6364-4d3a-8db7-ae134dbc05cd"
   ]
  },
  {
   "cell_type": "code",
   "execution_count": null,
   "metadata": {},
   "outputs": [],
   "source": [
    "#Import necessary libraries"
   ]
  },
  {
   "cell_type": "code",
   "execution_count": null,
   "metadata": {},
   "outputs": [],
   "source": [
    "#Read in data."
   ]
  },
  {
   "cell_type": "code",
   "execution_count": null,
   "metadata": {},
   "outputs": [],
   "source": [
    "#Store column data in variables."
   ]
  },
  {
   "cell_type": "code",
   "execution_count": null,
   "metadata": {},
   "outputs": [],
   "source": [
    "#Plot information\n"
   ]
  },
  {
   "cell_type": "markdown",
   "metadata": {},
   "source": [
    "In your presentation, share your created visualizations above and your answers to the following questions along with any thoughts you have about the mini project.\n",
    "\n",
    "Answer the following questions:\n",
    "\n",
    "1. What income group of households has the greatest access to internet? The smallest?\n",
    "\n",
    "2. True or False: Equality exists because everyone has the opportunity to pay for internet access in their household. <br> Explain your thoughts.\n",
    "\n",
    "3. What are some ways that we can use our computer science skills to boost access of lower-income households to a stable high-speed internet connection?"
   ]
  },
  {
   "cell_type": "code",
   "execution_count": null,
   "metadata": {},
   "outputs": [],
   "source": []
  }
 ],
 "metadata": {
  "colab": {
   "collapsed_sections": [],
   "name": "Unit4_FinalProject.ipynb",
   "provenance": []
  },
  "kernelspec": {
   "display_name": "Python 3",
   "language": "python",
   "name": "python3"
  },
  "language_info": {
   "codemirror_mode": {
    "name": "ipython",
    "version": 3
   },
   "file_extension": ".py",
   "mimetype": "text/x-python",
   "name": "python",
   "nbconvert_exporter": "python",
   "pygments_lexer": "ipython3",
   "version": "3.8.3"
  }
 },
 "nbformat": 4,
 "nbformat_minor": 1
}
